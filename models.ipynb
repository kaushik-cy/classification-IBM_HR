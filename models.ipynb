{
 "cells": [
  {
   "cell_type": "code",
   "execution_count": 1,
   "metadata": {},
   "outputs": [],
   "source": [
    "import pandas as pd\n",
    "\n",
    "from sklearn.model_selection import train_test_split\n",
    "from imblearn.over_sampling import SMOTE\n",
    "from sklearn.preprocessing import scale\n",
    "\n",
    "from sklearn.linear_model import LogisticRegression\n",
    "from sklearn.ensemble import RandomForestClassifier\n",
    "from sklearn.ensemble import GradientBoostingClassifier\n",
    "from xgboost import XGBClassifier\n",
    "\n",
    "from sklearn.metrics import accuracy_score\n",
    "from sklearn.metrics import precision_score\n",
    "from sklearn.metrics import recall_score\n",
    "from sklearn.metrics import f1_score\n",
    "from sklearn.metrics import roc_auc_score"
   ]
  },
  {
   "cell_type": "code",
   "execution_count": 2,
   "metadata": {},
   "outputs": [
    {
     "data": {
      "text/html": [
       "<div>\n",
       "<style scoped>\n",
       "    .dataframe tbody tr th:only-of-type {\n",
       "        vertical-align: middle;\n",
       "    }\n",
       "\n",
       "    .dataframe tbody tr th {\n",
       "        vertical-align: top;\n",
       "    }\n",
       "\n",
       "    .dataframe thead th {\n",
       "        text-align: right;\n",
       "    }\n",
       "</style>\n",
       "<table border=\"1\" class=\"dataframe\">\n",
       "  <thead>\n",
       "    <tr style=\"text-align: right;\">\n",
       "      <th></th>\n",
       "      <th>Age</th>\n",
       "      <th>Attrition</th>\n",
       "      <th>BusinessTravel</th>\n",
       "      <th>DailyRate</th>\n",
       "      <th>Department</th>\n",
       "      <th>DistanceFromHome</th>\n",
       "      <th>Education</th>\n",
       "      <th>EducationField</th>\n",
       "      <th>EmployeeCount</th>\n",
       "      <th>EmployeeNumber</th>\n",
       "      <th>...</th>\n",
       "      <th>PerformanceRating</th>\n",
       "      <th>RelationshipSatisfaction</th>\n",
       "      <th>StockOptionLevel</th>\n",
       "      <th>TotalWorkingYears</th>\n",
       "      <th>TrainingTimesLastYear</th>\n",
       "      <th>WorkLifeBalance</th>\n",
       "      <th>YearsAtCompany</th>\n",
       "      <th>YearsInCurrentRole</th>\n",
       "      <th>YearsSinceLastPromotion</th>\n",
       "      <th>YearsWithCurrManager</th>\n",
       "    </tr>\n",
       "  </thead>\n",
       "  <tbody>\n",
       "    <tr>\n",
       "      <th>0</th>\n",
       "      <td>41</td>\n",
       "      <td>1</td>\n",
       "      <td>0.150</td>\n",
       "      <td>1102</td>\n",
       "      <td>0.206</td>\n",
       "      <td>1</td>\n",
       "      <td>2</td>\n",
       "      <td>0.147</td>\n",
       "      <td>1</td>\n",
       "      <td>1</td>\n",
       "      <td>...</td>\n",
       "      <td>3</td>\n",
       "      <td>1</td>\n",
       "      <td>0</td>\n",
       "      <td>8</td>\n",
       "      <td>0</td>\n",
       "      <td>1</td>\n",
       "      <td>6</td>\n",
       "      <td>4</td>\n",
       "      <td>0</td>\n",
       "      <td>5</td>\n",
       "    </tr>\n",
       "    <tr>\n",
       "      <th>1</th>\n",
       "      <td>49</td>\n",
       "      <td>0</td>\n",
       "      <td>0.249</td>\n",
       "      <td>279</td>\n",
       "      <td>0.138</td>\n",
       "      <td>8</td>\n",
       "      <td>1</td>\n",
       "      <td>0.147</td>\n",
       "      <td>1</td>\n",
       "      <td>2</td>\n",
       "      <td>...</td>\n",
       "      <td>4</td>\n",
       "      <td>4</td>\n",
       "      <td>1</td>\n",
       "      <td>10</td>\n",
       "      <td>3</td>\n",
       "      <td>3</td>\n",
       "      <td>10</td>\n",
       "      <td>7</td>\n",
       "      <td>1</td>\n",
       "      <td>7</td>\n",
       "    </tr>\n",
       "    <tr>\n",
       "      <th>2</th>\n",
       "      <td>37</td>\n",
       "      <td>1</td>\n",
       "      <td>0.150</td>\n",
       "      <td>1373</td>\n",
       "      <td>0.138</td>\n",
       "      <td>2</td>\n",
       "      <td>2</td>\n",
       "      <td>0.134</td>\n",
       "      <td>1</td>\n",
       "      <td>4</td>\n",
       "      <td>...</td>\n",
       "      <td>3</td>\n",
       "      <td>2</td>\n",
       "      <td>0</td>\n",
       "      <td>7</td>\n",
       "      <td>3</td>\n",
       "      <td>3</td>\n",
       "      <td>0</td>\n",
       "      <td>0</td>\n",
       "      <td>0</td>\n",
       "      <td>0</td>\n",
       "    </tr>\n",
       "    <tr>\n",
       "      <th>3</th>\n",
       "      <td>33</td>\n",
       "      <td>0</td>\n",
       "      <td>0.249</td>\n",
       "      <td>1392</td>\n",
       "      <td>0.138</td>\n",
       "      <td>3</td>\n",
       "      <td>4</td>\n",
       "      <td>0.147</td>\n",
       "      <td>1</td>\n",
       "      <td>5</td>\n",
       "      <td>...</td>\n",
       "      <td>3</td>\n",
       "      <td>3</td>\n",
       "      <td>0</td>\n",
       "      <td>8</td>\n",
       "      <td>3</td>\n",
       "      <td>3</td>\n",
       "      <td>8</td>\n",
       "      <td>7</td>\n",
       "      <td>3</td>\n",
       "      <td>0</td>\n",
       "    </tr>\n",
       "    <tr>\n",
       "      <th>4</th>\n",
       "      <td>27</td>\n",
       "      <td>0</td>\n",
       "      <td>0.150</td>\n",
       "      <td>591</td>\n",
       "      <td>0.138</td>\n",
       "      <td>2</td>\n",
       "      <td>1</td>\n",
       "      <td>0.136</td>\n",
       "      <td>1</td>\n",
       "      <td>7</td>\n",
       "      <td>...</td>\n",
       "      <td>3</td>\n",
       "      <td>4</td>\n",
       "      <td>1</td>\n",
       "      <td>6</td>\n",
       "      <td>3</td>\n",
       "      <td>3</td>\n",
       "      <td>2</td>\n",
       "      <td>2</td>\n",
       "      <td>2</td>\n",
       "      <td>2</td>\n",
       "    </tr>\n",
       "  </tbody>\n",
       "</table>\n",
       "<p>5 rows × 33 columns</p>\n",
       "</div>"
      ],
      "text/plain": [
       "   Age  Attrition  BusinessTravel  DailyRate  Department  DistanceFromHome  \\\n",
       "0   41          1           0.150       1102       0.206                 1   \n",
       "1   49          0           0.249        279       0.138                 8   \n",
       "2   37          1           0.150       1373       0.138                 2   \n",
       "3   33          0           0.249       1392       0.138                 3   \n",
       "4   27          0           0.150        591       0.138                 2   \n",
       "\n",
       "   Education  EducationField  EmployeeCount  EmployeeNumber  ...  \\\n",
       "0          2           0.147              1               1  ...   \n",
       "1          1           0.147              1               2  ...   \n",
       "2          2           0.134              1               4  ...   \n",
       "3          4           0.147              1               5  ...   \n",
       "4          1           0.136              1               7  ...   \n",
       "\n",
       "   PerformanceRating  RelationshipSatisfaction  StockOptionLevel  \\\n",
       "0                  3                         1                 0   \n",
       "1                  4                         4                 1   \n",
       "2                  3                         2                 0   \n",
       "3                  3                         3                 0   \n",
       "4                  3                         4                 1   \n",
       "\n",
       "   TotalWorkingYears  TrainingTimesLastYear  WorkLifeBalance  YearsAtCompany  \\\n",
       "0                  8                      0                1               6   \n",
       "1                 10                      3                3              10   \n",
       "2                  7                      3                3               0   \n",
       "3                  8                      3                3               8   \n",
       "4                  6                      3                3               2   \n",
       "\n",
       "   YearsInCurrentRole  YearsSinceLastPromotion  YearsWithCurrManager  \n",
       "0                   4                        0                     5  \n",
       "1                   7                        1                     7  \n",
       "2                   0                        0                     0  \n",
       "3                   7                        3                     0  \n",
       "4                   2                        2                     2  \n",
       "\n",
       "[5 rows x 33 columns]"
      ]
     },
     "execution_count": 2,
     "metadata": {},
     "output_type": "execute_result"
    }
   ],
   "source": [
    "df = pd.read_csv(r'data/dataset_e1.csv')\n",
    "df.head()"
   ]
  },
  {
   "cell_type": "code",
   "execution_count": 3,
   "metadata": {},
   "outputs": [],
   "source": [
    "y = df['Attrition']\n",
    "X = df.drop(['Attrition'], axis = 1)\n",
    "X = scale(X)"
   ]
  },
  {
   "cell_type": "code",
   "execution_count": 4,
   "metadata": {},
   "outputs": [],
   "source": [
    "X_train, X_test, y_train, y_test = train_test_split(X, y, random_state = 1, stratify = y)"
   ]
  },
  {
   "cell_type": "code",
   "execution_count": 5,
   "metadata": {},
   "outputs": [],
   "source": [
    "os = SMOTE()\n",
    "X_train_os, y_train_os = os.fit_resample(X_train, y_train)"
   ]
  },
  {
   "cell_type": "code",
   "execution_count": 6,
   "metadata": {},
   "outputs": [],
   "source": [
    "def model_metrics(y_test, y_pred):\n",
    "    print('Accuracy:\\t', accuracy_score(y_test, y_pred).round(3))\n",
    "    print('Precision:\\t', precision_score(y_test, y_pred).round(3))\n",
    "    print('Recall:\\t\\t', recall_score(y_test, y_pred).round(3))\n",
    "    print('F1 score:\\t', f1_score(y_test, y_pred).round(3))\n",
    "    print('ROC AUC score:\\t', roc_auc_score(y_test, y_pred).round(3))"
   ]
  },
  {
   "cell_type": "code",
   "execution_count": 7,
   "metadata": {},
   "outputs": [],
   "source": [
    "model_list = []\n",
    "model_list.append(LogisticRegression(random_state = 1))\n",
    "model_list.append(RandomForestClassifier(random_state = 1))\n",
    "model_list.append(GradientBoostingClassifier(random_state = 1))\n",
    "model_list.append(XGBClassifier(random_state = 1))"
   ]
  },
  {
   "cell_type": "markdown",
   "metadata": {},
   "source": [
    "# DEFAULT MODELS - no oversampling"
   ]
  },
  {
   "cell_type": "code",
   "execution_count": 8,
   "metadata": {},
   "outputs": [
    {
     "name": "stdout",
     "output_type": "stream",
     "text": [
      "LogisticRegression(random_state=1)\n",
      "Train\n",
      "Accuracy:\t 0.89\n",
      "Precision:\t 0.782\n",
      "Recall:\t\t 0.444\n",
      "F1 score:\t 0.566\n",
      "ROC AUC score:\t 0.71\n",
      "\n",
      "Test\n",
      "Accuracy:\t 0.886\n",
      "Precision:\t 0.689\n",
      "Recall:\t\t 0.525\n",
      "F1 score:\t 0.596\n",
      "ROC AUC score:\t 0.74\n",
      "\n",
      "\n",
      "RandomForestClassifier(random_state=1)\n",
      "Train\n",
      "Accuracy:\t 1.0\n",
      "Precision:\t 1.0\n",
      "Recall:\t\t 1.0\n",
      "F1 score:\t 1.0\n",
      "ROC AUC score:\t 1.0\n",
      "\n",
      "Test\n",
      "Accuracy:\t 0.867\n",
      "Precision:\t 0.857\n",
      "Recall:\t\t 0.203\n",
      "F1 score:\t 0.329\n",
      "ROC AUC score:\t 0.598\n",
      "\n",
      "\n",
      "GradientBoostingClassifier(random_state=1)\n",
      "Train\n",
      "Accuracy:\t 0.963\n",
      "Precision:\t 0.993\n",
      "Recall:\t\t 0.775\n",
      "F1 score:\t 0.871\n",
      "ROC AUC score:\t 0.887\n",
      "\n",
      "Test\n",
      "Accuracy:\t 0.867\n",
      "Precision:\t 0.647\n",
      "Recall:\t\t 0.373\n",
      "F1 score:\t 0.473\n",
      "ROC AUC score:\t 0.667\n",
      "\n",
      "\n",
      "XGBClassifier(base_score=None, booster=None, colsample_bylevel=None,\n",
      "              colsample_bynode=None, colsample_bytree=None, gamma=None,\n",
      "              gpu_id=None, importance_type='gain', interaction_constraints=None,\n",
      "              learning_rate=None, max_delta_step=None, max_depth=None,\n",
      "              min_child_weight=None, missing=nan, monotone_constraints=None,\n",
      "              n_estimators=100, n_jobs=None, num_parallel_tree=None,\n",
      "              random_state=1, reg_alpha=None, reg_lambda=None,\n",
      "              scale_pos_weight=None, subsample=None, tree_method=None,\n",
      "              validate_parameters=False, verbosity=None)\n",
      "Train\n",
      "Accuracy:\t 1.0\n",
      "Precision:\t 1.0\n",
      "Recall:\t\t 1.0\n",
      "F1 score:\t 1.0\n",
      "ROC AUC score:\t 1.0\n",
      "\n",
      "Test\n",
      "Accuracy:\t 0.864\n",
      "Precision:\t 0.645\n",
      "Recall:\t\t 0.339\n",
      "F1 score:\t 0.444\n",
      "ROC AUC score:\t 0.652\n",
      "\n",
      "\n"
     ]
    }
   ],
   "source": [
    "for model in model_list:\n",
    "    print(model)\n",
    "    model.fit(X_train, y_train)\n",
    "    print('Train')\n",
    "    model_metrics(y_train, model.predict(X_train))\n",
    "    print('')\n",
    "    print('Test')\n",
    "    model_metrics(y_test, model.predict(X_test))\n",
    "    print('')\n",
    "    print('')"
   ]
  },
  {
   "cell_type": "code",
   "execution_count": null,
   "metadata": {},
   "outputs": [],
   "source": []
  },
  {
   "cell_type": "markdown",
   "metadata": {},
   "source": [
    "# DEFAULT MODELS - with oversampling"
   ]
  },
  {
   "cell_type": "code",
   "execution_count": 9,
   "metadata": {},
   "outputs": [
    {
     "name": "stdout",
     "output_type": "stream",
     "text": [
      "LogisticRegression(random_state=1)\n",
      "Train\n",
      "Accuracy:\t 0.809\n",
      "Precision:\t 0.794\n",
      "Recall:\t\t 0.834\n",
      "F1 score:\t 0.814\n",
      "ROC AUC score:\t 0.809\n",
      "\n",
      "Test\n",
      "Accuracy:\t 0.739\n",
      "Precision:\t 0.363\n",
      "Recall:\t\t 0.831\n",
      "F1 score:\t 0.505\n",
      "ROC AUC score:\t 0.776\n",
      "\n",
      "\n",
      "RandomForestClassifier(random_state=1)\n",
      "Train\n",
      "Accuracy:\t 1.0\n",
      "Precision:\t 1.0\n",
      "Recall:\t\t 1.0\n",
      "F1 score:\t 1.0\n",
      "ROC AUC score:\t 1.0\n",
      "\n",
      "Test\n",
      "Accuracy:\t 0.864\n",
      "Precision:\t 0.61\n",
      "Recall:\t\t 0.424\n",
      "F1 score:\t 0.5\n",
      "ROC AUC score:\t 0.686\n",
      "\n",
      "\n",
      "GradientBoostingClassifier(random_state=1)\n",
      "Train\n",
      "Accuracy:\t 0.97\n",
      "Precision:\t 0.994\n",
      "Recall:\t\t 0.946\n",
      "F1 score:\t 0.969\n",
      "ROC AUC score:\t 0.97\n",
      "\n",
      "Test\n",
      "Accuracy:\t 0.88\n",
      "Precision:\t 0.667\n",
      "Recall:\t\t 0.508\n",
      "F1 score:\t 0.577\n",
      "ROC AUC score:\t 0.73\n",
      "\n",
      "\n",
      "XGBClassifier(base_score=0.5, booster=None, colsample_bylevel=1,\n",
      "              colsample_bynode=1, colsample_bytree=1, gamma=0, gpu_id=-1,\n",
      "              importance_type='gain', interaction_constraints=None,\n",
      "              learning_rate=0.300000012, max_delta_step=0, max_depth=6,\n",
      "              min_child_weight=1, missing=nan, monotone_constraints=None,\n",
      "              n_estimators=100, n_jobs=0, num_parallel_tree=1, random_state=1,\n",
      "              reg_alpha=0, reg_lambda=1, scale_pos_weight=1, subsample=1,\n",
      "              tree_method=None, validate_parameters=False, verbosity=None)\n",
      "Train\n",
      "Accuracy:\t 1.0\n",
      "Precision:\t 1.0\n",
      "Recall:\t\t 1.0\n",
      "F1 score:\t 1.0\n",
      "ROC AUC score:\t 1.0\n",
      "\n",
      "Test\n",
      "Accuracy:\t 0.864\n",
      "Precision:\t 0.605\n",
      "Recall:\t\t 0.441\n",
      "F1 score:\t 0.51\n",
      "ROC AUC score:\t 0.693\n",
      "\n",
      "\n"
     ]
    }
   ],
   "source": [
    "for model in model_list:\n",
    "    print(model)\n",
    "    model.fit(X_train_os, y_train_os)\n",
    "    print('Train')\n",
    "    model_metrics(y_train_os, model.predict(X_train_os))\n",
    "    print('')\n",
    "    print('Test')\n",
    "    model_metrics(y_test, model.predict(X_test))\n",
    "    print('')\n",
    "    print('')"
   ]
  },
  {
   "cell_type": "code",
   "execution_count": null,
   "metadata": {},
   "outputs": [],
   "source": []
  },
  {
   "cell_type": "code",
   "execution_count": 10,
   "metadata": {},
   "outputs": [],
   "source": [
    "from sklearn.model_selection import GridSearchCV"
   ]
  },
  {
   "cell_type": "code",
   "execution_count": 11,
   "metadata": {},
   "outputs": [],
   "source": [
    "params_1 = {'penalty' : ['l1', 'l2', 'elasticnet', 'none'],\n",
    "            'C' : [0.001, 0.01, 0.1, 1, 10, 100],\n",
    "            'max_iter': [100, 200, 500]}\n",
    "model_1 = LogisticRegression(random_state=1)\n",
    "grid = GridSearchCV(model, params_1, cv = 3)"
   ]
  },
  {
   "cell_type": "code",
   "execution_count": 12,
   "metadata": {},
   "outputs": [
    {
     "data": {
      "text/plain": [
       "GridSearchCV(cv=3,\n",
       "             estimator=XGBClassifier(base_score=0.5, booster=None,\n",
       "                                     colsample_bylevel=1, colsample_bynode=1,\n",
       "                                     colsample_bytree=1, gamma=0, gpu_id=-1,\n",
       "                                     importance_type='gain',\n",
       "                                     interaction_constraints=None,\n",
       "                                     learning_rate=0.300000012,\n",
       "                                     max_delta_step=0, max_depth=6,\n",
       "                                     min_child_weight=1, missing=nan,\n",
       "                                     monotone_constraints=None,\n",
       "                                     n_estimators=100, n_jobs=0,\n",
       "                                     num_parallel_tree=1, random_state=1,\n",
       "                                     reg_alpha=0, reg_lambda=1,\n",
       "                                     scale_pos_weight=1, subsample=1,\n",
       "                                     tree_method=None,\n",
       "                                     validate_parameters=False,\n",
       "                                     verbosity=None),\n",
       "             param_grid={'C': [0.001, 0.01, 0.1, 1, 10, 100],\n",
       "                         'max_iter': [100, 200, 500],\n",
       "                         'penalty': ['l1', 'l2', 'elasticnet', 'none']})"
      ]
     },
     "execution_count": 12,
     "metadata": {},
     "output_type": "execute_result"
    }
   ],
   "source": [
    "grid.fit(X_train_os, y_train_os)"
   ]
  },
  {
   "cell_type": "code",
   "execution_count": 13,
   "metadata": {},
   "outputs": [
    {
     "data": {
      "text/plain": [
       "{'C': 0.001, 'max_iter': 100, 'penalty': 'l1'}"
      ]
     },
     "execution_count": 13,
     "metadata": {},
     "output_type": "execute_result"
    }
   ],
   "source": [
    "grid.best_params_"
   ]
  },
  {
   "cell_type": "code",
   "execution_count": 14,
   "metadata": {},
   "outputs": [
    {
     "name": "stdout",
     "output_type": "stream",
     "text": [
      "Train\n",
      "Accuracy:\t 1.0\n",
      "Precision:\t 1.0\n",
      "Recall:\t\t 1.0\n",
      "F1 score:\t 1.0\n",
      "ROC AUC score:\t 1.0\n",
      "\n",
      "Test\n",
      "Accuracy:\t 0.864\n",
      "Precision:\t 0.605\n",
      "Recall:\t\t 0.441\n",
      "F1 score:\t 0.51\n",
      "ROC AUC score:\t 0.693\n"
     ]
    }
   ],
   "source": [
    "print('Train')\n",
    "model_metrics(y_train_os, grid.predict(X_train_os))\n",
    "print('')\n",
    "print('Test')\n",
    "model_metrics(y_test, grid.predict(X_test))"
   ]
  },
  {
   "cell_type": "code",
   "execution_count": null,
   "metadata": {},
   "outputs": [],
   "source": []
  },
  {
   "cell_type": "code",
   "execution_count": 15,
   "metadata": {},
   "outputs": [],
   "source": [
    "params_2 = {'learning_rate' : [0.001, 0.01, 0.1, 0.5],\n",
    "            'n_estimators' : [50, 100, 200],\n",
    "            'max_depth': [3, 4, 5]}\n",
    "model_2 = GradientBoostingClassifier(random_state=1)\n",
    "grid_2 = GridSearchCV(model, params_2, cv = 3)"
   ]
  },
  {
   "cell_type": "code",
   "execution_count": 16,
   "metadata": {},
   "outputs": [
    {
     "data": {
      "text/plain": [
       "GridSearchCV(cv=3,\n",
       "             estimator=XGBClassifier(base_score=0.5, booster=None,\n",
       "                                     colsample_bylevel=1, colsample_bynode=1,\n",
       "                                     colsample_bytree=1, gamma=0, gpu_id=-1,\n",
       "                                     importance_type='gain',\n",
       "                                     interaction_constraints=None,\n",
       "                                     learning_rate=0.300000012,\n",
       "                                     max_delta_step=0, max_depth=6,\n",
       "                                     min_child_weight=1, missing=nan,\n",
       "                                     monotone_constraints=None,\n",
       "                                     n_estimators=100, n_jobs=0,\n",
       "                                     num_parallel_tree=1, random_state=1,\n",
       "                                     reg_alpha=0, reg_lambda=1,\n",
       "                                     scale_pos_weight=1, subsample=1,\n",
       "                                     tree_method=None,\n",
       "                                     validate_parameters=False,\n",
       "                                     verbosity=None),\n",
       "             param_grid={'learning_rate': [0.001, 0.01, 0.1, 0.5],\n",
       "                         'max_depth': [3, 4, 5],\n",
       "                         'n_estimators': [50, 100, 200]})"
      ]
     },
     "execution_count": 16,
     "metadata": {},
     "output_type": "execute_result"
    }
   ],
   "source": [
    "grid_2.fit(X_train_os, y_train_os)"
   ]
  },
  {
   "cell_type": "code",
   "execution_count": 17,
   "metadata": {},
   "outputs": [
    {
     "data": {
      "text/plain": [
       "{'learning_rate': 0.1, 'max_depth': 5, 'n_estimators': 50}"
      ]
     },
     "execution_count": 17,
     "metadata": {},
     "output_type": "execute_result"
    }
   ],
   "source": [
    "grid_2.best_params_"
   ]
  },
  {
   "cell_type": "code",
   "execution_count": 18,
   "metadata": {},
   "outputs": [
    {
     "name": "stdout",
     "output_type": "stream",
     "text": [
      "Train\n",
      "Accuracy:\t 0.982\n",
      "Precision:\t 0.994\n",
      "Recall:\t\t 0.969\n",
      "F1 score:\t 0.981\n",
      "ROC AUC score:\t 0.982\n",
      "\n",
      "Test\n",
      "Accuracy:\t 0.861\n",
      "Precision:\t 0.58\n",
      "Recall:\t\t 0.492\n",
      "F1 score:\t 0.532\n",
      "ROC AUC score:\t 0.712\n"
     ]
    }
   ],
   "source": [
    "print('Train')\n",
    "model_metrics(y_train_os, grid_2.predict(X_train_os))\n",
    "print('')\n",
    "print('Test')\n",
    "model_metrics(y_test, grid_2.predict(X_test))"
   ]
  },
  {
   "cell_type": "code",
   "execution_count": null,
   "metadata": {},
   "outputs": [],
   "source": []
  }
 ],
 "metadata": {
  "kernelspec": {
   "display_name": "Python 3",
   "language": "python",
   "name": "python3"
  },
  "language_info": {
   "codemirror_mode": {
    "name": "ipython",
    "version": 3
   },
   "file_extension": ".py",
   "mimetype": "text/x-python",
   "name": "python",
   "nbconvert_exporter": "python",
   "pygments_lexer": "ipython3",
   "version": "3.7.3"
  }
 },
 "nbformat": 4,
 "nbformat_minor": 2
}
